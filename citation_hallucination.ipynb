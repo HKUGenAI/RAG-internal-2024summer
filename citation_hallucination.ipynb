{
 "cells": [
  {
   "cell_type": "markdown",
   "metadata": {},
   "source": [
    "# Citation Hallucination\n"
   ]
  },
  {
   "cell_type": "markdown",
   "metadata": {},
   "source": [
    "### Prompt I gave\n",
    "\n",
    "Suppose Alex Martinez is unhappy with the proposed 20% rent increase and additional restrictions on subletting, and he believes these terms to be unjust given current market conditions. Based on the 'Tenancy Matters' document, what specific legal actions can Alex take to contest the new terms? Please detail the process for filing a grievance with the relevant tenancy board, including any documentation he might need to prepare, the possible legal arguments he could use to support his case, and the typical timeline for such proceedings. Additionally, explore any alternative dispute resolution options available to him, such as mediation or arbitration, and discuss their advantages and disadvantages compared to formal legal action"
   ]
  },
  {
   "cell_type": "markdown",
   "metadata": {},
   "source": [
    "### What i received:\n",
    "\n",
    "According to the 'Tenancy Matters' document, Alex Martinez can contest the new terms of the tenancy agreement by filing a grievance with the relevant tenancy board, which is the Rating and Valuation Department (“RVD”). He would need to submit Form AR2 or Form CR109 to RVD by the statutory time limit concerned (see Q16 and Q2 above) [Tenancy_matters-5]. He may argue that the proposed rent increase and additional restrictions on subletting are unjust given current market conditions. To support his case he can provide evidence of comparable rents for similar properties in the same area [Tenancy_matters-1]. The typical timeline for such proceedings are not provided in the sources. Alternative dispute resolution options available to him include mediation or arbitration. Mediation is a voluntary process that can take place before or after filing a legal claim and is typically faster and less expensive than going to court. Arbitration is a process where an arbitrator listens to both sides and makes a decision that is legally binding, but it can be more expensive and time-consuming than mediation ***[no relevant source found]***.\n"
   ]
  },
  {
   "cell_type": "markdown",
   "metadata": {},
   "source": [
    "### AI search results\n",
    "\n",
    "\n",
    "Tenancy_matters-1:  When should a landlord submit the Notice of New Letting or Renewal Agreement (Form CR109) to the Commissioner of Rating\n",
    "and V aluation (“Commissioner”) for endorsement?\n",
    "3. Are there any statutory grounds for a landlord to forfeit a domestic tenancy?\n",
    "non-payment of rent within 15 days of the due date; (a)\n",
    "use of the premises for immoral or illegal purposes; (b)\n",
    "unnecessary annoyance, inconvenience or disturbance including persistent delay in payment of rent; and (c)\n",
    "structural alteration to the premises without the landlord's consent. (d)\n",
    "4. How can a landlord or a tenant determine as to whether or not a tenancy is domestic?\n",
    "5. What is a subdivided unit under Part IV A of the Landlord and T enant (Consolidation) Ordinance (“Ordinance”)? What types of\n",
    "subdivided units are regulated?\n",
    "6. What is a “regulated tenancy”?\n",
    "the tenancy commences on or after 22 January 2022; (1)\n",
    "the tenancy is a domestic tenancy; (2)\n",
    "the subject premises of the tenancy are a subdivided unit; (3)\n",
    "the tenant is a natural person; (4)\n",
    "the purpose of the tenancy is for the tenant’s own dwelling; and (5)\n",
    "the tenancy is not one specified in Schedule 6 to the Ordinance, i.\n",
    "\n",
    "\n",
    "Tenancy_matters-4:  The\n",
    "landlord is liable on a first conviction to a fine at level 3 (currently HK$10,000), and on a second or subsequent conviction to a fine at level 4 (currently\n",
    "HK$25,000).\n",
    "Provided that there is no conflict with the relevant legislation (see Q27 above), the landlord and tenant of a “regulated tenancy” may discuss and agree on an\n",
    "acceptable method of apportionment before entering into a tenancy.\n",
    "If a landlord is suspected of having committed an offence under the provisions of Part IVA of the Ordinance, for instance charging any non-permitted money\n",
    "or reimbursement of charges for the specified utilities and services (including water and electricity), the complainant may report to the Rating and Valuation\n",
    "Department (“RVD”) via hotline, email or in person. After knowing the situation, RVD will investigate and take follow-up action in accordance with the\n",
    "Ordinance; conduct site inspection if necessary, and, depending on the circumstances of individual cases, consider whether legal action is warranted.\n",
    "  Access to building plans, deed of mutual covenant and primary user certificate23.\n",
    "\n",
    "  \n",
    "Tenancy_matters-5: ServicesElectronic\n",
    "ServicesPublicationsBilling and\n",
    "PaymentForms What's New About Us\n",
    "➤he/she has to submit Form AR2 or Form CR109 to RVD by the statutory time limit concerned (see Q16 and Q2 above).\n",
    "Non-Domestic T enancies\n",
    "The rent and the security of tenure of non-domestic tenancies are not subject to any statutory control under LTCO.\n",
    "Miscellaneous\n",
    "LTCO contains no provision to regulate the format of tenancy agreement. A landlord and a tenant may freely negotiate and agree on appropriate format to suit\n",
    "the two parties’ needs and circumstances. In the event of tenancy disputes over an agreement which cannot be settled between the landlord and the tenant,\n",
    "either party may resort to legal proceedings to deal with the matter.\n",
    "For regulated tenancies under Part IVA of LTCO, a Template for Tenancy Agreement for a Regulated Tenancy to which Part IVA of the Ordinance applies\n",
    "(“template”), prepared by the Transport and Housing Bureau for general reference purpose, is available at the Rating and Valuation Department (\n",
    "  \n",
    "  “RVD”)’s\n",
    "webpage (www.rvd.gov.hk/en/our_services/tenancy_matters.html). The landlord and tenant of a regulated tenancy may use and adapt the template with such\n",
    "modifications "
   ]
  },
  {
   "cell_type": "code",
   "execution_count": null,
   "metadata": {},
   "outputs": [],
   "source": [
    "#to get the AI search in a string format\n",
    "AI_search_results= \"Tenancy_matters-1:  When should a landlord submit the Notice of New Letting or Renewal Agreement (Form CR109) to the Commissioner of Rating\\nand V aluation (“Commissioner”) for endorsement?\\n3. Are there any statutory grounds for a landlord to forfeit a domestic tenancy?\\nnon-payment of rent within 15 days of the due date; (a)\\nuse of the premises for immoral or illegal purposes; (b)\\nunnecessary annoyance, inconvenience or disturbance including persistent delay in payment of rent; and (c)\\nstructural alteration to the premises without the landlord's consent. (d)\\n4. How can a landlord or a tenant determine as to whether or not a tenancy is domestic?\\n5. What is a subdivided unit under Part IV A of the Landlord and T enant (Consolidation) Ordinance (“Ordinance”)? What types of\\nsubdivided units are regulated?\\n6. What is a “regulated tenancy”?\\nthe tenancy commences on or after 22 January 2022; (1)\\nthe tenancy is a domestic tenancy; (2)\\nthe subject premises of the tenancy are a subdivided unit; (3)\\nthe tenant is a natural person; (4)\\nthe purpose of the tenancy is for the tenant’s own dwelling; and (5)\\nthe tenancy is not one specified in Schedule 6 to the Ordinance, i.Tenancy_matters-4:  The\\nlandlord is liable on a first conviction to a fine at level 3 (currently HK$10,000), and on a second or subsequent conviction to a fine at level 4 (currently\\nHK$25,000).\\nProvided that there is no conflict with the relevant legislation (see Q27 above), the landlord and tenant of a “regulated tenancy” may discuss and agree on an\\nacceptable method of apportionment before entering into a tenancy.\\nIf a landlord is suspected of having committed an offence under the provisions of Part IVA of the Ordinance, for instance charging any non-permitted money\\nor reimbursement of charges for the specified utilities and services (including water and electricity), the complainant may report to the Rating and Valuation\\nDepartment (“RVD”) via hotline, email or in person. After knowing the situation, RVD will investigate and take follow-up action in accordance with the\\nOrdinance; conduct site inspection if necessary, and, depending on the circumstances of individual cases, consider whether legal action is warranted.\\n  Access to building plans, deed of mutual covenant and primary user certificate23.Tenancy_matters-5: ServicesElectronic\\nServicesPublicationsBilling and\\nPaymentForms What's New About Us\\n➤he/she has to submit Form AR2 or Form CR109 to RVD by the statutory time limit concerned (see Q16 and Q2 above).\\nNon-Domestic T enancies\\nThe rent and the security of tenure of non-domestic tenancies are not subject to any statutory control under LTCO.\\nMiscellaneous\\nLTCO contains no provision to regulate the format of tenancy agreement. A landlord and a tenant may freely negotiate and agree on appropriate format to suit\\nthe two parties’ needs and circumstances. In the event of tenancy disputes over an agreement which cannot be settled between the landlord and the tenant,\\neither party may resort to legal proceedings to deal with the matter.\\nFor regulated tenancies under Part IVA of LTCO, a Template for Tenancy Agreement for a Regulated Tenancy to which Part IVA of the Ordinance applies\\n(“template”), prepared by the Transport and Housing Bureau for general reference purpose, is available at the Rating and Valuation Department (“RVD”)’s\\nwebpage (www.rvd.gov.hk/en/our_services/tenancy_matters.html). The landlord and tenant of a regulated tenancy may use and adapt the template with such\\nmodifications\""
   ]
  },
  {
   "cell_type": "code",
   "execution_count": null,
   "metadata": {},
   "outputs": [],
   "source": [
    "#extracting the sources\n",
    "import re \n",
    "\n",
    "def extract_sources(text):\n",
    "    \"\"\"\n",
    "    Extracts all occurrences of sources cited in the format 'Tenancy_matters-X'\n",
    "    from the provided text.\n",
    "    \"\"\"\n",
    "    # Regex to find all occurrences of 'Tenancy_matters-X' or the name_of_the_file-X\n",
    "    pattern = r'Tenancy_matters-\\d+'\n",
    "    sources_found = re.findall(pattern, text)\n",
    "\n",
    "    return sources_found\n",
    "  \n",
    "valid_sources=extract_sources(AI_search_results)\n",
    "valid_sources"
   ]
  },
  {
   "cell_type": "code",
   "execution_count": null,
   "metadata": {},
   "outputs": [],
   "source": [
    "#LLM response\n",
    "\n",
    "response=\"\"\"According to the 'Tenancy Matters' document, Alex Martinez can contest the new terms of the tenancy agreement by filing a grievance with the relevant tenancy board,\n",
    "which is the Rating and Valuation Department (“RVD”). He would need to submit Form AR2 or Form CR109 to RVD by \n",
    "the statutory time limit concerned (see Q16 and Q2 above) [Tenancy_matters-5]. He may argue that the proposed \n",
    "rent increase and additional restrictions on subletting are unjust given current market conditions. \n",
    "To support his case he can provide evidence of comparable rents for similar properties in the same area [Tenancy_matters-1]. \n",
    "The typical timeline for such proceedings are not provided in the sources. Alternative dispute resolution options available to him include mediation\n",
    "or arbitration. Mediation is a voluntary process that can take place before or after filing a legal claim and is typically faster\n",
    "and less expensive than going to court. Arbitration is a process where an arbitrator listens to both sides and makes a decision\n",
    "that is legally binding, \n",
    "but it can be more expensive and time-consuming than mediation[no relevant source found]\"\"\""
   ]
  },
  {
   "cell_type": "code",
   "execution_count": null,
   "metadata": {},
   "outputs": [],
   "source": [
    "def validate_citations(text, valid_sources):\n",
    "    \"\"\"\n",
    "    Extracts references within square brackets and checks if they are in the list of valid sources.\n",
    "    Returns a list of references that are not found in the valid sources list.\n",
    "    \"\"\"\n",
    "    # Regex to extract all items within square brackets\n",
    "    cited_sources = re.findall(r'\\[([^\\]]+)\\]', text)\n",
    "    \n",
    "    # Filter out any sources not in the valid sources list\n",
    "    invalid_sources = [source for source in cited_sources if source not in valid_sources]\n",
    "\n",
    "    return invalid_sources\n",
    "\n",
    "\n",
    "invalid_sources = validate_citations(response,valid_sources)\n",
    "invalid_sources"
   ]
  },
  {
   "cell_type": "code",
   "execution_count": null,
   "metadata": {},
   "outputs": [],
   "source": []
  }
 ],
 "metadata": {
  "kernelspec": {
   "display_name": "summerRAG",
   "language": "python",
   "name": "python3"
  },
  "language_info": {
   "codemirror_mode": {
    "name": "ipython",
    "version": 3
   },
   "file_extension": ".py",
   "mimetype": "text/x-python",
   "name": "python",
   "nbconvert_exporter": "python",
   "pygments_lexer": "ipython3",
   "version": "3.12.3"
  }
 },
 "nbformat": 4,
 "nbformat_minor": 2
}
